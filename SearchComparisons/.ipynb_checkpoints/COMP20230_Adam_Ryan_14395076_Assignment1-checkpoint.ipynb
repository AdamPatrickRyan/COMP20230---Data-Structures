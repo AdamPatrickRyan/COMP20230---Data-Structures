{
 "cells": [
  {
   "cell_type": "markdown",
   "metadata": {},
   "source": [
    "# COMP 20230: Assignment 1\n",
    "\n",
    "## Submission Details\n",
    "\n",
    "1. <b>Detail</b>: This assignment is worth 40% of the overall mark for COMP20230. It should be uploaded to the Brightspcae by 2330pm on Friday 26th March 2021\n",
    "\n",
    "2. <b>Submission</b>: A report (PDF) contains codes and analysis of your solution. In addition, the codes should be submitted in Jupiter notebooks\n",
    "\n",
    "3. <b>Evaluation Criteria</b>: Logic 50%, Code 25% and Creativity of report 25%\n",
    "\n",
    "\n",
    "## Brief\n",
    "\n",
    "The following is the assignment brief:\n",
    "\n",
    "1. Write an algorithm to compute the factorial of a positive integer n.\n",
    "\n",
    "2. For different values of n, implement your algorithm using two approaches: iterative and recursive (tail and non-tail recursions). For each case, plot running time as a function of n and compare the achieved results.\n",
    "\n",
    "3. Use one of the sequences obtained from task 2 as an input for search algorithms. Implement with two methods from: linear search, iterative binary and recursive binary.\n",
    "\n",
    "4. For each approach, compute the best and worst running times. Give some examples by plotting the running time as a function of n.\n",
    "\n",
    "5. Use curve-fitting algorithms to find the equation of the running times obtained from Tasks 2-4. See the attached example.\n",
    "\n",
    "## Submission Details Per Brightspace:\n",
    "\n",
    "Please note that  the submission is <b>an ipython notebook with explanations in markdown</b>. \n",
    "\n",
    "Please save images of the graphs you output and include in your submission a zipped folder with the jupyter notebook and images. \n",
    "\n",
    "This is because the graphs output by the notebook will differ depending on the machine, OS etc, and we may not see the same image you do when we run the notebook to grade. You only need to add \"plt.savefig('file_nameXX.png')\" at the end of the cell where you plot."
   ]
  },
  {
   "cell_type": "code",
   "execution_count": 1,
   "metadata": {},
   "outputs": [],
   "source": [
    "####-----------------------------------------------------###"
   ]
  },
  {
   "attachments": {},
   "cell_type": "markdown",
   "metadata": {},
   "source": [
    "# COMP20230: Assignment 1 Begin\n",
    "\n",
    "## Part 1: Factorial Functions\n",
    "\n",
    "In this section we will define the factorial functions, check their complexity\n"
   ]
  },
  {
   "cell_type": "code",
   "execution_count": 204,
   "metadata": {},
   "outputs": [],
   "source": [
    "####-----------------------------------------------------###\n",
    "import time\n",
    "import numpy as np\n",
    "from matplotlib import pyplot as plt\n",
    "from sklearn.linear_model import LinearRegression\n",
    "from scipy.optimize import curve_fit\n",
    "\n",
    "#!pip install memory_profiler\n",
    "#from memory_profiler import profile\n",
    "\n",
    "####-----------------------------------------------------###"
   ]
  },
  {
   "cell_type": "markdown",
   "metadata": {},
   "source": [
    "## Iterative Factorial\n",
    "\n",
    "### Algorithm\n",
    "\n",
    "And iterative algorithm is implemented. 'Naive factorial' \n",
    "\n",
    "#### Naive Factorial\n",
    "\n",
    "This is the standard iterative approach. The algorithm is:\n",
    "\n",
    "Step 0: Assuming function is passed $n \\in \\mathbb{N} \\cup \\{0\\}$ \n",
    "\n",
    "Step 1: Set $F_0:=1$.\n",
    "\n",
    "Step 2: while n>1, $F_1:=F_0*(n_0), n_1:=n_0 - 1$\n",
    "\n",
    "Step 3: Return the factorial.\n",
    "\n",
    "In other words:\n",
    "\n",
    "1. Set the Factorial as 1\n",
    "2. While n > 1, define the factorial as the existing value by multiplied by where in the loop it is. Then take 1 from n.\n",
    "3. Return the factorial at the end.\n",
    "\n",
    "\n",
    "### Pseudocode\n",
    "\n",
    "#### iterative_factorial\n",
    "\n",
    "<code>\n",
    "def iterative_factorial(n):\n",
    "    INPUT: n, a non-negative integer\n",
    "    OUTPUT: n! an integer\n",
    "\n",
    "    fact=1\n",
    "\n",
    "    while n > 1\n",
    "        fact*=n\n",
    "        n-=1\n",
    "\n",
    "    return fact\n",
    "</code>"
   ]
  },
  {
   "cell_type": "markdown",
   "metadata": {},
   "source": [
    "## Iterative Factorial Function"
   ]
  },
  {
   "cell_type": "code",
   "execution_count": 9,
   "metadata": {},
   "outputs": [],
   "source": [
    "def iterative_factorial(nonneg_integer):\n",
    "    \"\"\"A naive function to get the factorial of a number n. There is an assumption n>=0\n",
    "    \n",
    "    This is implemented using an iterative approach.\n",
    "    \"\"\"\n",
    "    \n",
    "    #Set the factorial as 1 to cover base case\n",
    "    factorial=1\n",
    "\n",
    "    while nonneg_integer>1:\n",
    "        factorial*=nonneg_integer\n",
    "        nonneg_integer-=1\n",
    "        \n",
    "    return factorial"
   ]
  },
  {
   "cell_type": "markdown",
   "metadata": {},
   "source": [
    "### Complexity analysis\n",
    "\n",
    "#### iterative_factorial\n",
    "\n",
    "1. We can see that initiallty we have one operation defining factorial as 1 Total\n",
    "\n",
    "2. We run through the for loop n times, and in each time we perform a multiplication of the current value of the factorial, and the current index in the loop, and define it to be the factorial. Total of n operations.\n",
    "\n",
    "3. This will perform in $\\mathcal{O}(n)$. Scales linearly.\n",
    "\n",
    "\n",
    "\n",
    "##### More mathematically:\n",
    "<code>\n",
    "L1    factorial=1\n",
    "L2\n",
    "L3    while nonneg_integer>1:\n",
    "L4        factorial*=nonneg_integer\n",
    "L5        nonneg_integer-=1\n",
    "        \n",
    "L6    return factorial\n",
    "</code>\n",
    "   \n",
    "L1 = 1 Operation\n",
    "L3: Cond\n",
    "L4 = 2 operations\n",
    "L5:2 Operations\n",
    "\n",
    "The while loop will repeat n times, 4 operations in the loop. $T(f(n)) \\propto 4n = \\mathcal{O}(n)$"
   ]
  },
  {
   "cell_type": "markdown",
   "metadata": {},
   "source": [
    "#### Graphing the complexity of iterative_factorial"
   ]
  },
  {
   "cell_type": "markdown",
   "metadata": {},
   "source": [
    "### Function to return the average runtime of C iterations of the factorial function from 1 to n"
   ]
  },
  {
   "cell_type": "code",
   "execution_count": 10,
   "metadata": {},
   "outputs": [],
   "source": [
    "def return_runtime(number_of_time_to_run,highest_factorials_to_compute):\n",
    "    \"\"\"\n",
    "    Runs the factorial function a number of times and returns a dictionary with the value for each run\n",
    "\n",
    "    Input: Number of times to run and highest factorial: both must be positive>=1\n",
    "    Output: Dictionary\n",
    "    \"\"\"\n",
    "\n",
    "    #Empty Dictionary\n",
    "    run_time_amounts={}\n",
    "    \n",
    "    #For each run less than the highest\n",
    "    for run in range(1,number_of_time_to_run):\n",
    "\n",
    "        #Create an empty time array to store the results for this run\n",
    "        time_array=[]\n",
    "        \n",
    "        #wipe these variables\n",
    "        time_start=0\n",
    "        time_end=0\n",
    "        \n",
    "        \n",
    "        #Go through each value up to highest number to compute\n",
    "        for fact_count in range(1,highest_factorials_to_compute):\n",
    "\n",
    "            #Start Timer\n",
    "            time_start=time.perf_counter_ns()\n",
    "            \n",
    "            #Naive Factorial\n",
    "            iterative_factorial(fact_count)\n",
    "\n",
    "            #End timer\n",
    "            time_end=time.perf_counter_ns()\n",
    "\n",
    "            #Get delta\n",
    "            time_delta=time_end-time_start\n",
    "            \n",
    "            #Save to array\n",
    "            time_array+=[time_delta]\n",
    "            \n",
    "        #Add to dictionary. Key is the number of the run\n",
    "        run_time_amounts[run]=time_array\n",
    "        \n",
    "    return run_time_amounts"
   ]
  },
  {
   "cell_type": "markdown",
   "metadata": {},
   "source": [
    "### Given a dictionary of runtimes, return the mean of each run."
   ]
  },
  {
   "cell_type": "code",
   "execution_count": 11,
   "metadata": {},
   "outputs": [],
   "source": [
    "def get_mean_runtime(dict_to_mean):\n",
    "    \"\"\"Get the mean runtimes\n",
    "    \n",
    "    Input: Dictionary\n",
    "    Output: Array    \n",
    "    \"\"\"\n",
    "    \n",
    "    average_runtime_array=np.nanmean(list(dict_to_mean.values()),axis=0)\n",
    "\n",
    "    return average_runtime_array"
   ]
  },
  {
   "cell_type": "markdown",
   "metadata": {},
   "source": [
    "### Plot the runtimes Add a linear regression plot."
   ]
  },
  {
   "cell_type": "markdown",
   "metadata": {},
   "source": [
    "We use a linear regression model based on the Complexity Analysis. Will later use curve_fitting to validate"
   ]
  },
  {
   "cell_type": "code",
   "execution_count": 12,
   "metadata": {},
   "outputs": [],
   "source": [
    "def plot_runtimes(average_time_array,title,x_axis_title,y_axis_title,include_best_fit_line):\n",
    "    \"\"\"Plot the runtimes\n",
    "    \n",
    "    Input: Average time array, Titles, Whether to include the line of best fit\n",
    "    Returned: Plot\n",
    "    \"\"\"\n",
    "    \n",
    "    #Get the rescapes x and y values for the regression model\n",
    "    X = np.array(range(1,len(average_time_array)+1)).reshape(-1,1)\n",
    "    Y = np.array(average_time_array).reshape(-1,1)\n",
    "\n",
    "    #Regression Fit from SKLearn\n",
    "    reg = LinearRegression().fit(X, Y)\n",
    "    \n",
    "    #Regression score\n",
    "    display(reg.score(X, Y))\n",
    "\n",
    "    #Plot the X and Y arrays\n",
    "    plt.plot(X,Y,label='Iterative Fact Avg Runtime (ns)')\n",
    "    \n",
    "    #Include the line of best fit\n",
    "    if include_best_fit_line:\n",
    "        model=LinearRegression().fit(X, Y)\n",
    "        model_pred=model.predict(X)\n",
    "        model_m_val=model.coef_\n",
    "        model_c_val=model.intercept_\n",
    "        name=f\"\"\"Iter Line of best Fit: y={model_m_val}x+{model_c_val}\"\"\"\n",
    "        \n",
    "        #Overlay the plot with the regression line; predict the line of best fit\n",
    "        plt.plot(X, model_pred,label=name)\n",
    "    \n",
    "    #Set the formatting stuff\n",
    "    plt.title(title)\n",
    "    plt.ylabel(y_axis_title)\n",
    "    plt.xlabel(x_axis_title)\n",
    "    \n",
    "    plt.legend()\n",
    "    \n",
    "    #Save in the local directory\n",
    "    plt.savefig('Iterative_Factorial_Function_Solo.png')\n",
    "    \n",
    "    return"
   ]
  },
  {
   "cell_type": "markdown",
   "metadata": {},
   "source": [
    "### Combine the functions"
   ]
  },
  {
   "cell_type": "code",
   "execution_count": 13,
   "metadata": {},
   "outputs": [],
   "source": [
    "def analyse_linear_regression(number_of_time_to_run,highest_factorials_to_compute,title,x_axis_title,y_axis_title,include_best_fit_line):\n",
    "    \"\"\"Return the graph\"\"\"\n",
    "    \n",
    "    runtime=return_runtime(number_of_time_to_run,highest_factorials_to_compute)\n",
    "    mean_array=get_mean_runtime(runtime)\n",
    "    graph=plot_runtimes(mean_array,title,x_axis_title,y_axis_title,include_best_fit_line)\n",
    "    \n",
    "    return   "
   ]
  },
  {
   "cell_type": "markdown",
   "metadata": {},
   "source": [
    "### Graph to help highlight if my time complexity of linearity is right."
   ]
  },
  {
   "cell_type": "code",
   "execution_count": 14,
   "metadata": {},
   "outputs": [
    {
     "data": {
      "text/plain": [
       "0.9038969752403383"
      ]
     },
     "metadata": {},
     "output_type": "display_data"
    },
    {
     "data": {
      "image/png": "[encoded data removed]",
      "text/plain": [
       "<Figure size 432x288 with 1 Axes>"
      ]
     },
     "metadata": {
      "needs_background": "light"
     },
     "output_type": "display_data"
    }
   ],
   "source": [
    "analyse_linear_regression(number_of_time_to_run=100,highest_factorials_to_compute=1000,title='Iterative Linear Regression',x_axis_title='n',y_axis_title='Average Time to Run n! ns',include_best_fit_line=True)"
   ]
  },
  {
   "cell_type": "markdown",
   "metadata": {},
   "source": [
    "## Part 1 Continued: Recursive Functions"
   ]
  },
  {
   "cell_type": "markdown",
   "metadata": {},
   "source": [
    "## Recursive Factorial\n",
    "\n",
    "### Algorithm\n",
    "\n",
    "Two recursive algorithms are implemented. 'Non Tail factorial' and 'Tail Factorial'.\n",
    "\n",
    "#### Factorial Not Tail\n",
    "\n",
    "This is the 'easy' recursive approach. The algorithm is:\n",
    "\n",
    "Step 0: Assuming function is passed $n \\in \\mathbb{N} \\cup \\{0\\}$ \n",
    "\n",
    "Step 1: If $n=1$ then return 1, otherwise return $n * f(n-1)$\n",
    "\n",
    "In other words:\n",
    "\n",
    "1. The base case is 1\n",
    "2. So long as the entry to the recursive function isn't 1, return the value of the current value multipled by the function(value-1)\n",
    "3. When it hits base cases passes up value.\n",
    "\n",
    "### Pseudocode\n",
    "\n",
    "#### recursive_factorial_not_tail(x)\n",
    "\n",
    "<code>\n",
    "def n_factorial(n):\n",
    "    INPUT: n, a non-negative integer\n",
    "    OUTPUT: n*n_factorial(n-1) -> n! after calls\n",
    "\n",
    "    if n=1\n",
    "        return 1 \n",
    "\n",
    "    else\n",
    "        return n * n_factorial(n-1)\n",
    "</code>\n",
    "\n",
    "\n",
    "#### Factorial  Tail\n",
    "\n",
    "This is the 'trickier' recursive approach. The algorithm is:\n",
    "\n",
    "Step 0: Assuming function is passed $n \\in \\mathbb{N} \\cup \\{0\\}$ and also an accumulator $a \\in \\mathbb{N}$\n",
    "\n",
    "Step 1: If $n=1$ then return the accumulator, otherwise call the function again with  $f(n-1,n*accumulator)$\n",
    "\n",
    "Step 2: Start by falling f(x,1)\n",
    "\n",
    "In other words:\n",
    "\n",
    "1. The base case is 1. The accumulator collects the results of the factorial so far.\n",
    "2. So long as the entry to the recursive function isn't 1, enter the function again.\n",
    "3. When it hits base case it outputs the result of the accumulator\n",
    "\n",
    "### Pseudocode\n",
    "\n",
    "#### recursive_factorial_tail(x)\n",
    "\n",
    "<code>\n",
    "def n_factorial(n,a):\n",
    "    INPUT: n, a non-negative integer a=1 when initially calling (the accumulator)\n",
    "    OUTPUT: n_factorial(n-1,n*accumulator) -> n! after calls\n",
    "\n",
    "    if n=1\n",
    "        return a\n",
    "\n",
    "    else\n",
    "        return n_factorial(n-1,n*a)\n",
    "</code>"
   ]
  },
  {
   "cell_type": "code",
   "execution_count": 15,
   "metadata": {},
   "outputs": [],
   "source": [
    "def recursive_factorial_not_tail(x):\n",
    "    \"\"\"Returns x!\n",
    "\n",
    "    Requires x>=1 and uses recursion\"\"\"\n",
    "    \n",
    "    #base case\n",
    "    if x==1:\n",
    "        return 1\n",
    "    \n",
    "    # x<>0 need to progress down to n0\n",
    "    else:\n",
    "        return x*recursive_factorial_not_tail(x-1)"
   ]
  },
  {
   "cell_type": "code",
   "execution_count": 16,
   "metadata": {},
   "outputs": [],
   "source": [
    "def recursive_factorial_tail_wrap(x):\n",
    "    \"\"\"A function to call the recursive factorial tail.\n",
    "    \n",
    "    Return x!\"\"\"\n",
    "\n",
    "    def recursive_factorial_tail(x,accumulator):\n",
    "        \"\"\"Returns x!\n",
    "\n",
    "        Requires x>=0 and uses recursion. TRacks history of results via accumulator\"\"\"\n",
    "\n",
    "        #base case\n",
    "        if x==1:\n",
    "            return accumulator\n",
    "\n",
    "        # x<>0 need to progress down to n0\n",
    "        else:\n",
    "            return recursive_factorial_tail(x-1,x*accumulator)\n",
    "\n",
    "    \n",
    "    return recursive_factorial_tail(x,1)"
   ]
  },
  {
   "cell_type": "markdown",
   "metadata": {},
   "source": [
    "### Complexity analysis\n",
    "\n",
    "#### recursive_factorial_not_tail\n",
    "\n",
    "1. We do $a$ operations in each activation.\n",
    "\n",
    "2. We will this function n times implying n total operations.\n",
    "\n",
    "3. This will perform in $\\mathcal{O}(an)=\\mathcal{O}(n)$. Scales linearly.\n",
    "\n",
    "\n",
    "##### More Mathematically\n",
    "<code>\n",
    "L1    if x==1:\n",
    "L2        return 1\n",
    "L3    \n",
    "L4    else:\n",
    "L5        return x*recursive_factorial_not_tail(x-1)\n",
    "</code>\n",
    "\n",
    "L1=1 operation\n",
    "L2=1 operation\n",
    "L3=3 operations\n",
    "\n",
    "Activations: We have n activations.\n",
    "Operations: In each activation except for the final activation, we have 4 operations (cond, return func call, multiply, x-1). In the final activation we have 2 operations. the condition and the return.\n",
    "\n",
    "$T(f(n))=4n+k \\propto \\mathcal{O}(n)$\n",
    "\n",
    "#### recursive_factorial_tail_wrap\n",
    "\n",
    "\n",
    "1. We do one operation multiplying the accumulator value.\n",
    "\n",
    "2. We call this function n times implying n total operations.\n",
    "\n",
    "3. This will perform in $\\mathcal{O}(n)$. Scales linearly.\n",
    "\n",
    "##### More Mathematically\n",
    "<code>\n",
    "\n",
    "L1        if x==1:\n",
    "L2            return accumulator\n",
    "L3\n",
    "L4        else:\n",
    "L5            return recursive_factorial_tail(x-1,x*accumulator)\n",
    "</code>\n",
    "L1 = 1 Operation\n",
    "L2 = 1 Operation\n",
    "L5 = 3 Operations (return func, x-1, x*accum).\n",
    "\n",
    "In each activation except for the final activation, there are 4 Operations. In the final activation, there are 2 operations.\n",
    "\n",
    "There will be n total operations impling $T(f(n)) \\propto 4n + k = \\mathcal{O}(n)$"
   ]
  },
  {
   "cell_type": "markdown",
   "metadata": {},
   "source": [
    "## Part 2: For Sample values of n, chart all of the plot running time vs n\n",
    "\n",
    "In investigating the first function, we've already created functions which will work for this.\n",
    "\n",
    "We will slightly modify the code above to work for specific samples and apply to each function. The work already done will be left as it includes some elements which would be overkill to add here."
   ]
  },
  {
   "cell_type": "code",
   "execution_count": 83,
   "metadata": {},
   "outputs": [],
   "source": [
    "def create_sample_array(max_sample_value,number_of_divisions):\n",
    "    \"\"\"\n",
    "    Evenly creates samples between 0 and max_sample_value\n",
    "    \"\"\"\n",
    "    \n",
    "    #Sample array\n",
    "    sample_value_array=[]\n",
    "    \n",
    "    #Note: We don't necessarily include the max value in the sample, it's an upper bound but not necessarily included\n",
    "    \n",
    "    step_size=max_sample_value//number_of_divisions #Ensure int\n",
    "    \n",
    "    iteration=1\n",
    "    \n",
    "    #continue adding until max sample size\n",
    "    while iteration<max_sample_value+1:\n",
    "        \n",
    "        #Add it to the sample array\n",
    "        sample_value_array+=[iteration]\n",
    "        \n",
    "        #increase iteration\n",
    "        iteration+=step_size\n",
    "        \n",
    "        \n",
    "    return sample_value_array\n",
    "    \n",
    "    "
   ]
  },
  {
   "cell_type": "code",
   "execution_count": 92,
   "metadata": {},
   "outputs": [],
   "source": [
    "recursion_test_cases=create_sample_array(1800,40)"
   ]
  },
  {
   "cell_type": "code",
   "execution_count": 93,
   "metadata": {},
   "outputs": [],
   "source": [
    "def return_iter_runtime_sample(number_of_time_to_run,test_set):\n",
    "    \"\"\"\n",
    "    Runs the factorial function over a test set a number of times.\n",
    "    \"\"\"\n",
    "\n",
    "    #Empty Dictionary\n",
    "    run_time_amounts={}\n",
    "    \n",
    "    #For each run less than the highest\n",
    "    for run in range(1,number_of_time_to_run):\n",
    "\n",
    "        #Create an empty time array to store the results for this run\n",
    "        time_array=[]\n",
    "        \n",
    "        #wipe these variables\n",
    "        time_start=0\n",
    "        time_end=0\n",
    "        \n",
    "        \n",
    "        #Go through each value up to highest number to compute\n",
    "        for fact_count in test_set:\n",
    "\n",
    "            #Start Timer\n",
    "            time_start=time.perf_counter_ns()\n",
    "            \n",
    "            #Naive Factorial\n",
    "            iterative_factorial(fact_count)\n",
    "\n",
    "            #End timer\n",
    "            time_end=time.perf_counter_ns()\n",
    "\n",
    "            #Get delta\n",
    "            time_delta=time_end-time_start\n",
    "            \n",
    "            #Save to array\n",
    "            time_array+=[time_delta]\n",
    "            \n",
    "        #Add to dictionary. Key is the number of the run\n",
    "        run_time_amounts[run]=time_array\n",
    "        \n",
    "    return run_time_amounts"
   ]
  },
  {
   "cell_type": "code",
   "execution_count": 94,
   "metadata": {},
   "outputs": [],
   "source": [
    "def return_tail_runtime_sample(number_of_time_to_run,test_set):\n",
    "    \"\"\"\n",
    "    Runs the factorial function over a test set a number of times.\n",
    "    \"\"\"\n",
    "\n",
    "    #Empty Dictionary\n",
    "    run_time_amounts={}\n",
    "    \n",
    "    #For each run less than the highest\n",
    "    for run in range(1,number_of_time_to_run):\n",
    "\n",
    "        #Create an empty time array to store the results for this run\n",
    "        time_array=[]\n",
    "        \n",
    "        #wipe these variables\n",
    "        time_start=0\n",
    "        time_end=0\n",
    "        \n",
    "        \n",
    "        #Go through each value up to highest number to compute\n",
    "        for fact_count in test_set:\n",
    "\n",
    "            #Start Timer\n",
    "            time_start=time.perf_counter_ns()\n",
    "            \n",
    "            #Tail Factorial\n",
    "            recursive_factorial_tail_wrap(fact_count)\n",
    "\n",
    "            #End timer\n",
    "            time_end=time.perf_counter_ns()\n",
    "\n",
    "            #Get delta\n",
    "            time_delta=time_end-time_start\n",
    "            \n",
    "            #Save to array\n",
    "            time_array+=[time_delta]\n",
    "            \n",
    "        #Add to dictionary. Key is the number of the run\n",
    "        run_time_amounts[run]=time_array\n",
    "        \n",
    "    return run_time_amounts"
   ]
  },
  {
   "cell_type": "code",
   "execution_count": 95,
   "metadata": {},
   "outputs": [],
   "source": [
    "def return_non_tail_runtime_sample(number_of_time_to_run,test_set):\n",
    "    \"\"\"\n",
    "    Runs the factorial function over a test set a number of times.\n",
    "    \"\"\"\n",
    "\n",
    "    #Empty Dictionary\n",
    "    run_time_amounts={}\n",
    "    \n",
    "    #For each run less than the highest\n",
    "    for run in range(1,number_of_time_to_run):\n",
    "\n",
    "        #Create an empty time array to store the results for this run\n",
    "        time_array=[]\n",
    "        \n",
    "        #wipe these variables\n",
    "        time_start=0\n",
    "        time_end=0\n",
    "        \n",
    "        \n",
    "        #Go through each value up to highest number to compute\n",
    "        for fact_count in test_set:\n",
    "\n",
    "            #Start Timer\n",
    "            time_start=time.perf_counter_ns()\n",
    "            \n",
    "            #Tail Factorial\n",
    "            recursive_factorial_not_tail(fact_count)\n",
    "\n",
    "            #End timer\n",
    "            time_end=time.perf_counter_ns()\n",
    "\n",
    "            #Get delta\n",
    "            time_delta=time_end-time_start\n",
    "            \n",
    "            #Save to array\n",
    "            time_array+=[time_delta]\n",
    "            \n",
    "        #Add to dictionary. Key is the number of the run\n",
    "        run_time_amounts[run]=time_array\n",
    "        \n",
    "    return run_time_amounts"
   ]
  },
  {
   "cell_type": "code",
   "execution_count": 96,
   "metadata": {},
   "outputs": [],
   "source": [
    "def get_mean_runtime(dict_to_mean):\n",
    "    \"\"\"Get the mean runtimes\n",
    "    \n",
    "    NOTE: Same as before - Putting here for marker convenience to refer to.\n",
    "    \n",
    "    Input: Dictionary\n",
    "    Output: Array    \n",
    "    \"\"\"\n",
    "    \n",
    "    average_runtime_array=np.nanmean(list(dict_to_mean.values()),axis=0)\n",
    "\n",
    "    return average_runtime_array"
   ]
  },
  {
   "cell_type": "code",
   "execution_count": 97,
   "metadata": {},
   "outputs": [],
   "source": [
    "def plot_sample_factorial_runtimes(average_iter_time_array,average_tail_time_array,average_nontail_time_array,sample_set):\n",
    "    \"\"\"Plot the factorial sample runtimes\n",
    "    \n",
    "    Input: Average time array, Titles, Whether to include the line of best fit\n",
    "    Returned: Plot\n",
    "    \"\"\"\n",
    "    \n",
    "    X = np.array(sample_set)\n",
    "    Y_iter = np.array(average_iter_time_array)\n",
    "    Y_nontail = np.array(average_nontail_time_array)\n",
    "    Y_tail = np.array(average_tail_time_array)\n",
    "\n",
    "    \n",
    "    #Plot the X and Y arrays\n",
    "    plt.plot(X,Y_iter,label='Iterative')\n",
    "    plt.plot(X,Y_tail,label='Tail')\n",
    "    plt.plot(X,Y_nontail,label='NonTail')\n",
    "    \n",
    "    title='Factorial Functions Runtime Comparison'\n",
    "    x_axis_title='n'\n",
    "    y_axis_title='Average Time to Run n! (ns)'\n",
    "    \n",
    "    \n",
    "    #Set the formatting stuff\n",
    "    plt.title(title)\n",
    "    plt.ylabel(y_axis_title)\n",
    "    plt.xlabel(x_axis_title)\n",
    "    \n",
    "    plt.legend()\n",
    "    \n",
    "    #Save in the local directory\n",
    "    plt.savefig('Factorial_Function_Comparison.png')\n",
    "    \n",
    "    return"
   ]
  },
  {
   "cell_type": "code",
   "execution_count": 102,
   "metadata": {},
   "outputs": [],
   "source": [
    "def compare_all_factorial_on_sample(number_of_time_to_run,test_set):\n",
    "    \"\"\"A wrapper function to graph the functions against each other\"\"\"\n",
    "    \n",
    "    \n",
    "    #Run each of the times\n",
    "    iter_runtime=return_iter_runtime_sample(number_of_time_to_run,test_set)\n",
    "    not_tail_runtime=return_non_tail_runtime_sample(number_of_time_to_run,test_set)\n",
    "    tail_runtime=return_tail_runtime_sample(number_of_time_to_run,test_set)\n",
    "    \n",
    "    #Get the mean for each n! in the test set\n",
    "    mean_array_iter=get_mean_runtime(iter_runtime)\n",
    "    mean_array_nottail=get_mean_runtime(not_tail_runtime)\n",
    "    mean_array_tail=get_mean_runtime(tail_runtime)\n",
    "    \n",
    "    \n",
    "    #Plot this\n",
    "    plot_sample_factorial_runtimes(average_iter_time_array=mean_array_iter\n",
    "                                    ,average_tail_time_array=mean_array_tail\n",
    "                                      ,average_nontail_time_array=mean_array_nottail\n",
    "                                    ,sample_set=test_set)\n",
    "    \n",
    "    #Return the runtimes for Q3?\n",
    "    \n",
    "    return (iter_runtime,not_tail_runtime,tail_runtime)"
   ]
  },
  {
   "cell_type": "markdown",
   "metadata": {},
   "source": [
    "### Compare Results over Test Set. "
   ]
  },
  {
   "cell_type": "code",
   "execution_count": 104,
   "metadata": {},
   "outputs": [
    {
     "data": {
      "image/png": "[encoded data removed]",
      "text/plain": [
       "<Figure size 432x288 with 1 Axes>"
      ]
     },
     "metadata": {
      "needs_background": "light"
     },
     "output_type": "display_data"
    }
   ],
   "source": [
    "runtime_result_dictionary=compare_all_factorial_on_sample(800,recursion_test_cases)"
   ]
  },
  {
   "cell_type": "markdown",
   "metadata": {},
   "source": [
    "### Comparison Discussion\n",
    "\n",
    "Running over the test set, we can see that all functions appear to behave linearly.\n",
    "\n",
    "Interestingly the tail factorial function seemed to have run worsefor these values and appears to perform worse as n grows. The graphs are primarily linear supporting the complexity analysis discussed earlier."
   ]
  },
  {
   "cell_type": "markdown",
   "metadata": {},
   "source": [
    "## Part 3: Search Methods\n",
    "\n",
    "In this section we will the test sequence generated in task 2 using one of our functions as an input for search algorithms, namely two methods from: linear search, iterative binary and recursive binary.\n",
    "\n",
    "Note: This question is worded poorly so I've no idea what set it means. I returned the time array assuming that, but have heard different info on whether it should be the time set, the test set, or a factorial version of the test set. As the test set is already a sorted array, I'm using this."
   ]
  },
  {
   "cell_type": "markdown",
   "metadata": {},
   "source": [
    "My test set for the remainder of this is:\n",
    "[1,46,91,136,181,226,271,316,361,406,451,496,541,586,631,676,721,766,811,856,901,946,991,1036,1081,1126,1171,1216,1261,1306,1351,1396,1441,1486,1531,1576,1621,1666,1711,1756] factorialed"
   ]
  },
  {
   "cell_type": "code",
   "execution_count": 113,
   "metadata": {},
   "outputs": [],
   "source": [
    "sample=[1,46,91,136,181,226,271,316,361,406,451,496,541,586,631,676,721,766,811,856,901,946,991,1036,1081,1126,1171,1216,1261,1306,1351,1396,1441,1486,1531,1576,1621,1666,1711,1756]\n",
    "search_set=[]\n",
    "search_set+=[iterative_factorial(x) for x in sample]"
   ]
  },
  {
   "cell_type": "markdown",
   "metadata": {},
   "source": [
    "## Searches\n",
    "\n",
    "### Algorithm\n",
    "\n",
    "#### Binary Search\n",
    "\n",
    "The algorithm is:\n",
    "\n",
    "Step 0: Assuming function is passed a sorted array list and an element search_item\n",
    "\n",
    "Step 1: Set min=0, max=len(array)\n",
    "\n",
    "Step 2: Get midpoint.\n",
    "\n",
    "Step 3: If search_item > midpoint, it's in upper half so set min=midpoint. Otherwise in lowerhalf so set max=uppder half.\n",
    "\n",
    "Step 4: Repeat as long as min/>max.\n",
    "\n",
    "\n",
    "### Pseudocode\n",
    "\n",
    "#### binary_search\n",
    "\n",
    "<code>\n",
    "def binary_search(sorted_array,element)\n",
    "    INPUT:sorted_array,element\n",
    "    \n",
    "    OUTPUT: -1 or i of sorted_array st sorted_array[i]=element\n",
    "\n",
    "    min=0\n",
    "    max=len(sorted_array)\n",
    "    \n",
    "\n",
    "    while min<=max\n",
    "        mid=(max+mid)/2\n",
    "                  \n",
    "          if sorted_array[mid] < element\n",
    "              min=mid+1\n",
    "           \n",
    "          elif sorted_array[mid]>element\n",
    "                max=mid+1\n",
    "    \n",
    "           else\n",
    "                return mid\n",
    "    \n",
    "    \n",
    "     else\n",
    "        return -1\n",
    "    \n",
    "</code>"
   ]
  },
  {
   "cell_type": "code",
   "execution_count": 160,
   "metadata": {},
   "outputs": [],
   "source": [
    "def binary_search(sorted_array,element):\n",
    "    \"\"\"A function to return index of element\"\"\"\n",
    "    \n",
    "    min_element=0\n",
    "    max_element=len(sorted_array)-1\n",
    "    \n",
    "    #While they're not equal\n",
    "    while min_element<=max_element:\n",
    "        \n",
    "        #Get midpoint\n",
    "        midpoint=(min_element + max_element) // 2\n",
    "        \n",
    "        #Check which half it's in\n",
    "        \n",
    "        #Mid element less than element -> In Upper half\n",
    "        if sorted_array[midpoint] < element:\n",
    "            min_element=midpoint+1\n",
    "        \n",
    "        #Mid element greater than element -> In Lower half\n",
    "        elif sorted_array[midpoint]>element:\n",
    "            max_element=midpoint-1\n",
    "        \n",
    "        #Equal\n",
    "        else:\n",
    "            return midpoint\n",
    "    \n",
    "    return -1"
   ]
  },
  {
   "cell_type": "markdown",
   "metadata": {},
   "source": [
    "### Complexity Analysis\n",
    "\n",
    "\n",
    "<code>\n",
    "def binary_search(sorted_array,element):\n",
    "    \"\"\"A function to return index of element\"\"\"\n",
    "    \n",
    "L1    min_element=0\n",
    "L2    max_element=len(sorted_array)-1\n",
    "L3    \n",
    "L4    while min_elmenet<=max_element:\n",
    "L5        midpoint=(min_element + max_elment) // 2\n",
    "L6\n",
    "L7        if sorted_array[midpoint] < element:\n",
    "L8            min_element=midpoint+1\n",
    "L9  \n",
    "L10      elif sorted_array[midpoint]>element:\n",
    "L11         max_element=midpoint-1\n",
    "L12    \n",
    "L13      else:\n",
    "L14            return midpoint\n",
    "L15    \n",
    "L16    return -1\n",
    "</code>\n",
    "            \n",
    "After 0 iteration: n elements to search\n",
    "\n",
    "After 1 iteration: $2^{-1} n$ elements to search\n",
    "\n",
    "After k iteration: $2^{-k} n$ elements to search\n",
    "\n",
    "The sequence of elements to search is a strictly monotonic decreasing sequence and is bounded by 1. Hence the iteration count is bounded by $x \\text{ iterations}: 2^{-x}=1$\n",
    "\n",
    "Hence\n",
    "\n",
    "$2^{-x}=1 \\implies n=2^x \\implies x = log_2 (n) \\implies T(bs(n)) \\propto log(n)$\n",
    "\n",
    "Hence we see T(binary_search) = $\\mathcal{O}(log(n))$"
   ]
  },
  {
   "cell_type": "markdown",
   "metadata": {},
   "source": [
    "## Searches\n",
    "\n",
    "### Algorithm\n",
    "\n",
    "#### Linear Search\n",
    "\n",
    "The algorithm is:\n",
    "\n",
    "Step 0: for index in 0 to len(array) check if array(index)=element.\n",
    "\n",
    "\n",
    "### Pseudocode\n",
    "\n",
    "#### linear_search\n",
    "\n",
    "<code>\n",
    "def linear_search(sorted_array,element)\n",
    "    INPUT:sorted_array,element\n",
    "    \n",
    "    OUTPUT: -1 or i of sorted_array st sorted_array[i]=element\n",
    "\n",
    "    min=0\n",
    "    \n",
    "\n",
    "    for c in range 0 to length of array:\n",
    "        if array[c]==element \n",
    "        return c\n",
    "   \n",
    "     return -1\n",
    "    \n",
    "</code>"
   ]
  },
  {
   "cell_type": "code",
   "execution_count": 149,
   "metadata": {},
   "outputs": [],
   "source": [
    "def linear_search(sorted_array,element):\n",
    "    \"\"\"Searches function from beginning to end\n",
    "    \n",
    "    Returns -1 if not found or otherwise element index\"\"\"\n",
    "\n",
    "    #start from beginning to end\n",
    "    for index in range(len(sorted_array)):\n",
    "        \n",
    "        #check if element\n",
    "        if sorted_array[index]==element:\n",
    "            return index\n",
    "   \n",
    "    return -1"
   ]
  },
  {
   "cell_type": "markdown",
   "metadata": {},
   "source": [
    "### Complexity Analysis\n",
    "\n",
    "\n",
    "<code>\n",
    "\n",
    "L1    for index in range(len(sorted_array)):\n",
    "L2        \n",
    "L3        if sorted_array[index]==element:\n",
    "L4            return index\n",
    "L5   \n",
    "L6    return -1\n",
    "</code>\n",
    "            \n",
    "After 0 iteration: n elements to search\n",
    "\n",
    "After 1 iteration: $n-1$ elements to search\n",
    "\n",
    "After k iteration: $n-k$ elements to search\n",
    "\n",
    "After n-n iteration: n elements to search\n",
    "\n",
    "The sequence of elements to search is a strictly monotonic decreasing sequence and is bounded by 0. Hence the iteration count is bounded by n$\n",
    "\n",
    "Hence\n",
    "\n",
    "$T(ls(n)) \\propto n$\n",
    "\n",
    "Hence we see T(linear_search) = $\\mathcal{O}(n)$"
   ]
  },
  {
   "cell_type": "markdown",
   "metadata": {},
   "source": [
    "### After creating these, it makes no sense at all to run these over a list of a static size? Surely it has to be an array of length(n) which is variable? Therefore I am going to generate a multi-array unrelated to part 1."
   ]
  },
  {
   "cell_type": "markdown",
   "metadata": {},
   "source": [
    "### Part 4: Sampling and Graphing Search Methods"
   ]
  },
  {
   "cell_type": "code",
   "execution_count": 166,
   "metadata": {},
   "outputs": [],
   "source": [
    "test_array=[]\n",
    "sample_v2=[100*x for x in sample]\n",
    "\n",
    "for x in sample:\n",
    "    sub_array=[]\n",
    "    for k in range(x):\n",
    "        sub_array+=[x]\n",
    "    \n",
    "    test_array+=[sub_array]\n",
    "    \n",
    "test_array_v2=[]\n",
    "for x in sample_v2:\n",
    "    sub_array_v2=[]\n",
    "    for k in range(x):\n",
    "        sub_array_v2+=[x]\n",
    "    \n",
    "    test_array_v2+=[sub_array_v2]"
   ]
  },
  {
   "cell_type": "markdown",
   "metadata": {},
   "source": [
    "### Best and worst case for linear search and binary search"
   ]
  },
  {
   "cell_type": "code",
   "execution_count": 151,
   "metadata": {},
   "outputs": [],
   "source": [
    "def ls_best_case(sample_set):\n",
    "    \"\"\"Best case of it is always the first element\"\"\"\n",
    "    try:\n",
    "        return sample_set[0]\n",
    "        \n",
    "    except Exception as e:\n",
    "        print(e)\n",
    "        \n",
    "def ls_worst_case(sample_set):\n",
    "    \"\"\"Worst case of it is always not in the set\"\"\"\n",
    "    return -1"
   ]
  },
  {
   "cell_type": "code",
   "execution_count": 152,
   "metadata": {},
   "outputs": [],
   "source": [
    "def bs_best_case(sample_set):\n",
    "    \"\"\"Best case of it is always the first selection element\"\"\"\n",
    "    try: \n",
    "        return sample_set[(0 + len(sample_set)-1) // 2]\n",
    "        \n",
    "    except Exception as e:\n",
    "        print(e)\n",
    "        \n",
    "def bs_worst_case(sample_set):\n",
    "    \"\"\"Worst case of it is always the first element\"\"\"\n",
    "    return -1"
   ]
  },
  {
   "cell_type": "markdown",
   "metadata": {},
   "source": [
    "### Best case for binary search runtime"
   ]
  },
  {
   "cell_type": "code",
   "execution_count": 198,
   "metadata": {},
   "outputs": [],
   "source": [
    "def return_bs_runtime_sample_bestcase(number_of_time_to_run,test_multiarray):\n",
    "    \"\"\"\n",
    "    Runs the search function over a test set a number of times.\n",
    "    \"\"\"\n",
    "\n",
    "    #Empty Dictionary\n",
    "    run_time_amounts={}\n",
    "    \n",
    "    #For each run less than the highest\n",
    "    for run in range(1,number_of_time_to_run):\n",
    "        \n",
    "        #Clear from previous run\n",
    "        time_array=[]\n",
    "        \n",
    "        #Starts at first element\n",
    "        for simple_set in test_multiarray:\n",
    "        \n",
    "            #wipe these variables\n",
    "            time_start=0\n",
    "            time_end=0\n",
    "\n",
    "            #best_case\n",
    "            bs=bs_best_case(simple_set)\n",
    "\n",
    "            #Start Timer\n",
    "            time_start=time.perf_counter_ns()\n",
    "\n",
    "            #Tail Factorial\n",
    "            binary_search(simple_set,bs)\n",
    "\n",
    "            #End timer\n",
    "            time_end=time.perf_counter_ns()\n",
    "\n",
    "            #Get delta\n",
    "            time_delta=time_end-time_start\n",
    "\n",
    "            #Save to array\n",
    "            time_array+=[time_delta]\n",
    "\n",
    "        #Add to dictionary. Key is the number of the run\n",
    "        run_time_amounts[run]=time_array\n",
    "        \n",
    "    return run_time_amounts"
   ]
  },
  {
   "cell_type": "markdown",
   "metadata": {},
   "source": [
    "### Worst case for binary search runtime"
   ]
  },
  {
   "cell_type": "code",
   "execution_count": 154,
   "metadata": {},
   "outputs": [],
   "source": [
    "def return_bs_runtime_sample_worstcase(number_of_time_to_run,test_multiarray):\n",
    "    \"\"\"\n",
    "    Runs the search function over a test set a number of times.\n",
    "    \"\"\"\n",
    "\n",
    "    #Empty Dictionary\n",
    "    run_time_amounts={}\n",
    "    \n",
    "    #For each run less than the highest\n",
    "    for run in range(1,number_of_time_to_run):\n",
    "        \n",
    "        #Clear from previous run\n",
    "        time_array=[]\n",
    "        \n",
    "        #Starts at first element\n",
    "        for simple_set in test_multiarray:\n",
    "        \n",
    "            #wipe these variables\n",
    "            time_start=0\n",
    "            time_end=0\n",
    "\n",
    "            #worst_case\n",
    "            bs=bs_worst_case(simple_set)\n",
    "\n",
    "            #Start Timer\n",
    "            time_start=time.perf_counter_ns()\n",
    "\n",
    "            #Tail Factorial\n",
    "            binary_search(simple_set,bs)\n",
    "\n",
    "            #End timer\n",
    "            time_end=time.perf_counter_ns()\n",
    "\n",
    "            #Get delta\n",
    "            time_delta=time_end-time_start\n",
    "\n",
    "            #Save to array\n",
    "            time_array+=[time_delta]\n",
    "\n",
    "        #Add to dictionary. Key is the number of the run\n",
    "        run_time_amounts[run]=time_array\n",
    "        \n",
    "    return run_time_amounts"
   ]
  },
  {
   "cell_type": "markdown",
   "metadata": {},
   "source": [
    "### Best for linear search runtime"
   ]
  },
  {
   "cell_type": "code",
   "execution_count": 155,
   "metadata": {},
   "outputs": [],
   "source": [
    "def return_ls_runtime_sample_bestcase(number_of_time_to_run,test_multiarray):\n",
    "    \"\"\"\n",
    "    Runs the search function over a test set a number of times.\n",
    "    \"\"\"\n",
    "\n",
    "    #Empty Dictionary\n",
    "    run_time_amounts={}\n",
    "    \n",
    "    #For each run less than the highest\n",
    "    for run in range(1,number_of_time_to_run):\n",
    "        \n",
    "        #Clear from previous run\n",
    "        time_array=[]\n",
    "        \n",
    "        #Starts at first element\n",
    "        for simple_set in test_multiarray:\n",
    "        \n",
    "            #wipe these variables\n",
    "            time_start=0\n",
    "            time_end=0\n",
    "\n",
    "            #best_case\n",
    "            ls=ls_best_case(simple_set)\n",
    "\n",
    "            #Start Timer\n",
    "            time_start=time.perf_counter_ns()\n",
    "\n",
    "            #Tail Factorial\n",
    "            linear_search(simple_set,ls)\n",
    "\n",
    "            #End timer\n",
    "            time_end=time.perf_counter_ns()\n",
    "\n",
    "            #Get delta\n",
    "            time_delta=time_end-time_start\n",
    "\n",
    "            #Save to array\n",
    "            time_array+=[time_delta]\n",
    "\n",
    "        #Add to dictionary. Key is the number of the run\n",
    "        run_time_amounts[run]=time_array\n",
    "        \n",
    "    return run_time_amounts"
   ]
  },
  {
   "cell_type": "markdown",
   "metadata": {},
   "source": [
    "### Worst case for Linear Search runtime"
   ]
  },
  {
   "cell_type": "code",
   "execution_count": 156,
   "metadata": {},
   "outputs": [],
   "source": [
    "def return_ls_runtime_sample_worstcase(number_of_time_to_run,test_multiarray):\n",
    "    \"\"\"\n",
    "    Runs the search function over a test set a number of times.\n",
    "    \"\"\"\n",
    "\n",
    "    #Empty Dictionary\n",
    "    run_time_amounts={}\n",
    "    \n",
    "    #For each run less than the highest\n",
    "    for run in range(1,number_of_time_to_run):\n",
    "        \n",
    "        #Clear from previous run\n",
    "        time_array=[]\n",
    "        \n",
    "        #Starts at first element\n",
    "        for simple_set in test_multiarray:\n",
    "        \n",
    "            #wipe these variables\n",
    "            time_start=0\n",
    "            time_end=0\n",
    "\n",
    "            #best_case\n",
    "            ls=ls_worst_case(simple_set)\n",
    "\n",
    "            #Start Timer\n",
    "            time_start=time.perf_counter_ns()\n",
    "\n",
    "            #Tail Factorial\n",
    "            linear_search(simple_set,ls)\n",
    "\n",
    "            #End timer\n",
    "            time_end=time.perf_counter_ns()\n",
    "\n",
    "            #Get delta\n",
    "            time_delta=time_end-time_start\n",
    "\n",
    "            #Save to array\n",
    "            time_array+=[time_delta]\n",
    "\n",
    "        #Add to dictionary. Key is the number of the run\n",
    "        run_time_amounts[run]=time_array\n",
    "        \n",
    "    return run_time_amounts"
   ]
  },
  {
   "cell_type": "markdown",
   "metadata": {},
   "source": [
    "### Plot the runtimes on a single graph"
   ]
  },
  {
   "cell_type": "code",
   "execution_count": 168,
   "metadata": {},
   "outputs": [],
   "source": [
    "def plot_sample_search_runtimes(ls_worst,ls_best,bs_worst,bs_best,array_sizes):\n",
    "    \"\"\"Plot the search sample runtimes\n",
    "    \n",
    "    Input: Average time array, Titles, Whether to include the line of best fit\n",
    "    Returned: Plot\n",
    "    \"\"\"\n",
    "    \n",
    "    X = np.array(array_sizes)\n",
    "    Y_ls_worst = np.array(ls_worst)\n",
    "    Y_ls_best = np.array(ls_best)\n",
    "    Y_bs_worst = np.array(bs_worst)\n",
    "    Y_bs_best = np.array(bs_best)\n",
    "\n",
    "    \n",
    "    #Plot the X and Y arrays\n",
    "    plt.plot(X,Y_ls_worst,label='LS_Worst')\n",
    "    plt.plot(X,Y_ls_best,label='LS_Best')\n",
    "    plt.plot(X,Y_bs_worst,label='BS_Worst')\n",
    "    plt.plot(X,Y_bs_best,label='BS_Best')\n",
    "    \n",
    "    title='Search Functions Best and Worst Runtime Comparison'\n",
    "    x_axis_title='Array Size'\n",
    "    y_axis_title='Average Time to Run Search (ns)'\n",
    "    \n",
    "    \n",
    "    #Set the formatting stuff\n",
    "    plt.title(title)\n",
    "    plt.ylabel(y_axis_title)\n",
    "    plt.xlabel(x_axis_title)\n",
    "    \n",
    "    plt.legend()\n",
    "    \n",
    "    #Save in the local directory\n",
    "    plt.savefig('Search_Function_Comparison.png')\n",
    "    \n",
    "    return"
   ]
  },
  {
   "cell_type": "code",
   "execution_count": 175,
   "metadata": {},
   "outputs": [],
   "source": [
    "def plot_sample_search_runtimes_ls(ls_worst,ls_best,array_sizes):\n",
    "    \"\"\"Plot the Linear Search sample runtimes\n",
    "    \n",
    "    Input: Average time array, Titles, Whether to include the line of best fit\n",
    "    Returned: Plot\n",
    "    \"\"\"\n",
    "    \n",
    "    X = np.array(array_sizes)\n",
    "    Y_ls_worst = np.array(ls_worst)\n",
    "    Y_ls_best = np.array(ls_best)\n",
    "\n",
    "    \n",
    "    #Plot the X and Y arrays\n",
    "    plt.plot(X,Y_ls_worst,label='LS_Worst')\n",
    "    plt.plot(X,Y_ls_best,label='LS_Best')\n",
    "    \n",
    "    title='Search Functions Best and Worst Runtime Comparison'\n",
    "    x_axis_title='Array Size'\n",
    "    y_axis_title='Average Time to Run Search (ns)'\n",
    "    \n",
    "    \n",
    "    #Set the formatting stuff\n",
    "    plt.title(title)\n",
    "    plt.ylabel(y_axis_title)\n",
    "    plt.xlabel(x_axis_title)\n",
    "    \n",
    "    plt.legend()\n",
    "    \n",
    "    #Save in the local directory\n",
    "    plt.savefig('Linear_Search_Function_Comparison.png')\n",
    "    \n",
    "    return"
   ]
  },
  {
   "cell_type": "code",
   "execution_count": 176,
   "metadata": {},
   "outputs": [],
   "source": [
    "def plot_sample_search_runtimes_bs(bs_worst,bs_best,array_sizes):\n",
    "    \"\"\"Plot the binary search sample runtimes\n",
    "    \n",
    "    Input: Average time array, Titles, Whether to include the line of best fit\n",
    "    Returned: Plot\n",
    "    \"\"\"\n",
    "    \n",
    "    X = np.array(array_sizes)\n",
    "    Y_bs_worst = np.array(bs_worst)\n",
    "    Y_bs_best = np.array(bs_best)\n",
    "\n",
    "    \n",
    "    #Plot the X and Y arrays\n",
    "    plt.plot(X,Y_bs_worst,label='BS_Worst')\n",
    "    plt.plot(X,Y_bs_best,label='BS_Best')\n",
    "    \n",
    "    title='Search Functions Best and Worst Runtime Comparison'\n",
    "    x_axis_title='Array Size'\n",
    "    y_axis_title='Average Time to Run Search (ns)'\n",
    "    \n",
    "    \n",
    "    #Set the formatting stuff\n",
    "    plt.title(title)\n",
    "    plt.ylabel(y_axis_title)\n",
    "    plt.xlabel(x_axis_title)\n",
    "    \n",
    "    plt.legend()\n",
    "    \n",
    "    #Save in the local directory\n",
    "    plt.savefig('Binary_Search_Function_Comparison.png')\n",
    "    \n",
    "    return"
   ]
  },
  {
   "cell_type": "code",
   "execution_count": 185,
   "metadata": {},
   "outputs": [],
   "source": [
    "def compare_search_on_sample(number_of_time_to_run,test_set,array_sizes):\n",
    "    \"\"\"A wrapper function to graph the functions against each other\"\"\"\n",
    "    \n",
    "    \n",
    "    #Run each of the times\n",
    "    ls_worst=return_ls_runtime_sample_worstcase(number_of_time_to_run,test_set)\n",
    "    ls_best=return_ls_runtime_sample_bestcase(number_of_time_to_run,test_set)\n",
    "    \n",
    "    bs_worst=return_bs_runtime_sample_worstcase(number_of_time_to_run,test_set)\n",
    "    bs_best=return_bs_runtime_sample_bestcase(number_of_time_to_run,test_set)\n",
    "    \n",
    "    \n",
    "    #Get the mean for each n! in the test set\n",
    "    mean_array_ls_worst=get_mean_runtime(ls_worst)\n",
    "    mean_array_ls_best=get_mean_runtime(ls_best)\n",
    "    \n",
    "    mean_array_bs_worst=get_mean_runtime(bs_worst)\n",
    "    mean_array_bs_best=get_mean_runtime(bs_best)\n",
    "    \n",
    "    \n",
    "    #Plot this\n",
    "    plot_sample_search_runtimes(ls_worst=mean_array_ls_worst\n",
    "                                ,ls_best=mean_array_ls_best\n",
    "                                ,bs_worst=mean_array_bs_worst\n",
    "                                ,bs_best=mean_array_bs_best\n",
    "                                ,array_sizes=array_sizes)\n",
    "    \n",
    "    #Return the runtimes for Q3?\n",
    "    \n",
    "    return (mean_array_ls_worst,mean_array_ls_best,mean_array_bs_worst,mean_array_bs_best)"
   ]
  },
  {
   "cell_type": "code",
   "execution_count": 186,
   "metadata": {},
   "outputs": [
    {
     "data": {
      "image/png": "[encoded data removed]",
      "text/plain": [
       "<Figure size 432x288 with 1 Axes>"
      ]
     },
     "metadata": {
      "needs_background": "light"
     },
     "output_type": "display_data"
    }
   ],
   "source": [
    "runtimes_search=compare_search_on_sample(500,test_array_v2,sample_v2)"
   ]
  },
  {
   "cell_type": "code",
   "execution_count": 187,
   "metadata": {},
   "outputs": [],
   "source": [
    "def compare_search_on_sample_ls(number_of_time_to_run,test_set,array_sizes):\n",
    "    \"\"\"A wrapper function to graph the ls functions against each other\"\"\"\n",
    "    \n",
    "    \n",
    "    #Run each of the times\n",
    "    ls_worst=return_ls_runtime_sample_worstcase(number_of_time_to_run,test_set)\n",
    "    ls_best=return_ls_runtime_sample_bestcase(number_of_time_to_run,test_set)\n",
    "    \n",
    "    \n",
    "    #Get the mean for each n! in the test set\n",
    "    mean_array_ls_worst=get_mean_runtime(ls_worst)\n",
    "    mean_array_ls_best=get_mean_runtime(ls_best)\n",
    "    \n",
    "    \n",
    "    plot_sample_search_runtimes_ls(ls_worst=mean_array_ls_worst\n",
    "                                ,ls_best=mean_array_ls_best\n",
    "                                ,array_sizes=array_sizes)\n",
    "    #Return the runtimes for Q3?\n",
    "    \n",
    "    return (mean_array_ls_worst,mean_array_ls_best)"
   ]
  },
  {
   "cell_type": "code",
   "execution_count": 188,
   "metadata": {},
   "outputs": [
    {
     "data": {
      "image/png": "[encoded data removed]",
      "text/plain": [
       "<Figure size 432x288 with 1 Axes>"
      ]
     },
     "metadata": {
      "needs_background": "light"
     },
     "output_type": "display_data"
    }
   ],
   "source": [
    "runtimes_ls=compare_search_on_sample_ls(500,test_array_v2,sample_v2)"
   ]
  },
  {
   "cell_type": "code",
   "execution_count": 189,
   "metadata": {},
   "outputs": [],
   "source": [
    "def compare_search_on_sample_bs(number_of_time_to_run,test_set,array_sizes):\n",
    "    \"\"\"A wrapper function to graph the bs functions against each other\"\"\"\n",
    "    \n",
    "    \n",
    "    #Run each of the times\n",
    "    bs_worst=return_bs_runtime_sample_worstcase(number_of_time_to_run,test_set)\n",
    "    bs_best=return_bs_runtime_sample_bestcase(number_of_time_to_run,test_set)\n",
    "    \n",
    "    \n",
    "    #Get the mean for each n! in the test set\n",
    "    mean_array_bs_worst=get_mean_runtime(bs_worst)\n",
    "    mean_array_bs_best=get_mean_runtime(bs_best)\n",
    "    \n",
    "    \n",
    "    plot_sample_search_runtimes_bs(bs_worst=mean_array_bs_worst\n",
    "                                ,bs_best=mean_array_bs_best\n",
    "                                ,array_sizes=array_sizes)\n",
    "    #Return the runtimes for Q3?\n",
    "    \n",
    "    return (mean_array_bs_worst,mean_array_bs_best)"
   ]
  },
  {
   "cell_type": "code",
   "execution_count": 191,
   "metadata": {},
   "outputs": [
    {
     "data": {
      "image/png": "[encoded data removed]",
      "text/plain": [
       "<Figure size 432x288 with 1 Axes>"
      ]
     },
     "metadata": {
      "needs_background": "light"
     },
     "output_type": "display_data"
    }
   ],
   "source": [
    "runtimes_bs=compare_search_on_sample_bs(500,test_array_v2,sample_v2)"
   ]
  },
  {
   "cell_type": "markdown",
   "metadata": {},
   "source": [
    "### Discussion\n",
    "We see that the best case for binary search O(1) (as expected; it's the first search) and worst case is logarithmic.\n",
    "\n",
    "Similarly we see that the best case for linear search is O(1) while the worst case is linear. Hence we need to plot on separate graphs for a meaningful distinction."
   ]
  },
  {
   "cell_type": "markdown",
   "metadata": {},
   "source": [
    "## Part 5: \n",
    "\n",
    "For the curve plotting, we have the following graphs and best fit lines to produce:\n",
    "\n",
    "1. Iterative Factorial\n",
    "2. Tail Factorial\n",
    "3. NonTail Factorial\n",
    "4. Best Case Linear Search\n",
    "5. Worst Case Linear Search\n",
    "6. Best Case Binary Search\n",
    "7. Worst Case Binary Search\n",
    "\n",
    "Thankfully if you've ran everything up until now the data for these is all in memory."
   ]
  },
  {
   "cell_type": "code",
   "execution_count": 203,
   "metadata": {},
   "outputs": [],
   "source": [
    "recursive_xaxis_values=sample\n",
    "\n",
    "iter_times=get_mean_runtime(runtime_result_dictionary[0])\n",
    "nontail_times=get_mean_runtime(runtime_result_dictionary[1])\n",
    "tail_times=get_mean_runtime(runtime_result_dictionary[2])\n",
    "\n",
    "search_xaxis_values=sample_v2\n",
    "\n",
    "ls_worst_times=runtimes_ls[0]\n",
    "ls_best_times=runtimes_ls[1]\n",
    "\n",
    "bs_worst_times=runtimes_bs[0]\n",
    "bs_best_times=runtimes_bs[1]"
   ]
  },
  {
   "cell_type": "code",
   "execution_count": 230,
   "metadata": {},
   "outputs": [],
   "source": [
    "#Curve Fit on Linear Movels"
   ]
  },
  {
   "cell_type": "code",
   "execution_count": 227,
   "metadata": {},
   "outputs": [],
   "source": [
    "#Based on : https://machinelearningmastery.com/curve-fitting-with-python/\n",
    "\n",
    "def plot_linear(x_list,y_list,header,xaxis_title):\n",
    "    \"\"\"Plot linear function\"\"\"\n",
    "    \n",
    "    # define the true distribution\n",
    "\n",
    "    def match(x, slope, c):\n",
    "        return (slope * x) + c\n",
    " \n",
    "    x=np.array(x_list)\n",
    "    y=np.array(y_list)\n",
    "    \n",
    "    #Match Cyrve\n",
    "    popt, _ = curve_fit(match, x, y)\n",
    "    \n",
    "    # summarize the parameter values\n",
    "    slope, c = popt\n",
    "    \n",
    "    print(popt)\n",
    "    \n",
    "    # plot input vs output\n",
    "    plt.scatter(x, y)\n",
    "    \n",
    "    # define a sequence of inputs between the smallest and largest known inputs\n",
    "    x_line = np.arange(min(x), max(x), 1)\n",
    "    \n",
    "    # calculate the output for the range\n",
    "    y_line = match(x_line,slope, c)\n",
    "    \n",
    "    # create a line plot for the mapping function\n",
    "    plt.plot(x_line, y_line, '--', color='red',label=f'y={slope}x+{c}')\n",
    "    \n",
    "    plt.title(header)\n",
    "    plt.ylabel('Average running time (ns)')\n",
    "    plt.xlabel(xaxis_title)\n",
    "    plt.legend()\n",
    "    \n",
    "    plt.show()\n",
    "    file_name=f\"{header}.png\"\n",
    "    plt.savefig(file_name)"
   ]
  },
  {
   "cell_type": "code",
   "execution_count": 234,
   "metadata": {},
   "outputs": [],
   "source": [
    "linear=[\n",
    "    [iter_times,'Iterative Factorial','n!',recursive_xaxis_values]\n",
    "    ,[nontail_times,'NonTail Factorial','n!',recursive_xaxis_values]\n",
    "    ,[tail_times,'Tail Factorial','n!',recursive_xaxis_values]\n",
    "    ,[ls_worst_times,'Linear Search Worst','n!',search_xaxis_values]\n",
    "    ,[ls_best_times,'Linear Search Best','n!',search_xaxis_values]\n",
    "    ,[bs_best_times,'Binary Search Best','n!',search_xaxis_values]\n",
    "]\n",
    "\n",
    "log=[\n",
    "    [bs_worst_times,'Binary Search Worst','n!',search_xaxis_values]\n",
    "]"
   ]
  },
  {
   "cell_type": "markdown",
   "metadata": {},
   "source": [
    "### Loop Through them and output"
   ]
  },
  {
   "cell_type": "code",
   "execution_count": 229,
   "metadata": {},
   "outputs": [
    {
     "name": "stdout",
     "output_type": "stream",
     "text": [
      "[    576.23098288 -130440.94028676]\n"
     ]
    },
    {
     "data": {
      "image/png": "[encoded data removed]",
      "text/plain": [
       "<Figure size 432x288 with 1 Axes>"
      ]
     },
     "metadata": {
      "needs_background": "light"
     },
     "output_type": "display_data"
    },
    {
     "data": {
      "text/plain": [
       "None"
      ]
     },
     "metadata": {},
     "output_type": "display_data"
    },
    {
     "name": "stdout",
     "output_type": "stream",
     "text": [
      "[    624.53543798 -125149.49547224]\n"
     ]
    },
    {
     "data": {
      "image/png": "[encoded data removed]",
      "text/plain": [
       "<Figure size 432x288 with 1 Axes>"
      ]
     },
     "metadata": {
      "needs_background": "light"
     },
     "output_type": "display_data"
    },
    {
     "data": {
      "text/plain": [
       "None"
      ]
     },
     "metadata": {},
     "output_type": "display_data"
    },
    {
     "name": "stdout",
     "output_type": "stream",
     "text": [
      "[    875.31073546 -204599.10749802]\n"
     ]
    },
    {
     "data": {
      "image/png": "[encoded data removed]",
      "text/plain": [
       "<Figure size 432x288 with 1 Axes>"
      ]
     },
     "metadata": {
      "needs_background": "light"
     },
     "output_type": "display_data"
    },
    {
     "data": {
      "text/plain": [
       "None"
      ]
     },
     "metadata": {},
     "output_type": "display_data"
    },
    {
     "name": "stdout",
     "output_type": "stream",
     "text": [
      "[   61.90144311 -5104.34810379]\n"
     ]
    },
    {
     "data": {
      "image/png": "[encoded data removed]",
      "text/plain": [
       "<Figure size 432x288 with 1 Axes>"
      ]
     },
     "metadata": {
      "needs_background": "light"
     },
     "output_type": "display_data"
    },
    {
     "data": {
      "text/plain": [
       "None"
      ]
     },
     "metadata": {},
     "output_type": "display_data"
    },
    {
     "name": "stdout",
     "output_type": "stream",
     "text": [
      "[1.04123943e-04 6.54845898e+02]\n"
     ]
    },
    {
     "data": {
      "image/png": "[encoded data removed]",
      "text/plain": [
       "<Figure size 432x288 with 1 Axes>"
      ]
     },
     "metadata": {
      "needs_background": "light"
     },
     "output_type": "display_data"
    },
    {
     "data": {
      "text/plain": [
       "None"
      ]
     },
     "metadata": {},
     "output_type": "display_data"
    },
    {
     "name": "stdout",
     "output_type": "stream",
     "text": [
      "[-3.15856230e-04  7.44808891e+02]\n"
     ]
    },
    {
     "data": {
      "image/png": "[encoded data removed]",
      "text/plain": [
       "<Figure size 432x288 with 1 Axes>"
      ]
     },
     "metadata": {
      "needs_background": "light"
     },
     "output_type": "display_data"
    },
    {
     "data": {
      "text/plain": [
       "None"
      ]
     },
     "metadata": {},
     "output_type": "display_data"
    },
    {
     "data": {
      "text/plain": [
       "<Figure size 432x288 with 0 Axes>"
      ]
     },
     "metadata": {},
     "output_type": "display_data"
    }
   ],
   "source": [
    "for fit_model in linear:\n",
    "    display(plot_linear(x_list=fit_model[3],y_list=fit_model[0],header=fit_model[1],xaxis_title=fit_model[2]))"
   ]
  },
  {
   "cell_type": "markdown",
   "metadata": {},
   "source": [
    "## Chart the final non-linear model"
   ]
  },
  {
   "cell_type": "code",
   "execution_count": 240,
   "metadata": {},
   "outputs": [],
   "source": [
    "#Based on : https://machinelearningmastery.com/curve-fitting-with-python/\n",
    "\n",
    "def plot_log(x_list,y_list,header,xaxis_title):\n",
    "    \"\"\"Plot linear function\"\"\"\n",
    "    \n",
    "    # define the true distribution\n",
    "\n",
    "    def match(x, a, b, c):\n",
    "        return a * np.log2(b * x) + c\n",
    " \n",
    "    x=np.array(x_list)\n",
    "    y=np.array(y_list)\n",
    "    \n",
    "    #Match Cyrve\n",
    "    popt, _ = curve_fit(match, x, y)\n",
    "    \n",
    "    # summarize the parameter values\n",
    "    a,b,c = popt\n",
    "    \n",
    "    print(popt)\n",
    "    \n",
    "    # plot input vs output\n",
    "    plt.scatter(x, y)\n",
    "    \n",
    "    # define a sequence of inputs between the smallest and largest known inputs\n",
    "    x_line = np.arange(min(x), max(x), 1)\n",
    "    \n",
    "    # calculate the output for the range\n",
    "    y_line = match(x_line,  a, b, c)\n",
    "    \n",
    "    # create a line plot for the mapping function\n",
    "    plt.plot(x_line, y_line, '--', color='red',label=f'y={a} * np.log({b} * x) + {c}')\n",
    "    \n",
    "    plt.title(header)\n",
    "    plt.ylabel('Average running time (ns)')\n",
    "    plt.xlabel(xaxis_title)\n",
    "    plt.legend()\n",
    "    \n",
    "    plt.show()\n",
    "    file_name=f\"{header}.png\"\n",
    "    plt.savefig(file_name)"
   ]
  },
  {
   "cell_type": "code",
   "execution_count": 241,
   "metadata": {},
   "outputs": [
    {
     "name": "stdout",
     "output_type": "stream",
     "text": [
      "[  290.75028889    82.70596022 -1711.16807706]\n"
     ]
    },
    {
     "data": {
      "image/png": "[encoded data removed]",
      "text/plain": [
       "<Figure size 432x288 with 1 Axes>"
      ]
     },
     "metadata": {
      "needs_background": "light"
     },
     "output_type": "display_data"
    },
    {
     "data": {
      "text/plain": [
       "None"
      ]
     },
     "metadata": {},
     "output_type": "display_data"
    },
    {
     "data": {
      "text/plain": [
       "<Figure size 432x288 with 0 Axes>"
      ]
     },
     "metadata": {},
     "output_type": "display_data"
    }
   ],
   "source": [
    "for fit_model in log:\n",
    "    display(plot_log(x_list=fit_model[3],y_list=fit_model[0],header=fit_model[1],xaxis_title=fit_model[2]))"
   ]
  },
  {
   "cell_type": "code",
   "execution_count": 242,
   "metadata": {},
   "outputs": [
    {
     "name": "stdout",
     "output_type": "stream",
     "text": [
      "/bin/bash: nbconvert[webpdf]: command not found\r\n"
     ]
    }
   ],
   "source": []
  },
  {
   "cell_type": "code",
   "execution_count": null,
   "metadata": {},
   "outputs": [],
   "source": []
  }
 ],
 "metadata": {
  "hide_input": false,
  "kernelspec": {
   "display_name": "Python 3",
   "language": "python",
   "name": "python3"
  },
  "language_info": {
   "codemirror_mode": {
    "name": "ipython",
    "version": 3
   },
   "file_extension": ".py",
   "mimetype": "text/x-python",
   "name": "python",
   "nbconvert_exporter": "python",
   "pygments_lexer": "ipython3",
   "version": "3.8.3"
  }
 },
 "nbformat": 4,
 "nbformat_minor": 4
}
